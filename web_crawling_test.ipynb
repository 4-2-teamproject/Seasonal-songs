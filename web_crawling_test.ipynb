{
 "cells": [
  {
   "cell_type": "code",
   "execution_count": 15,
   "metadata": {},
   "outputs": [],
   "source": [
    "# 이 코드 참고하시면 좋을 것 같아요 하영님!\n",
    "\n",
    "import requests\n",
    "from bs4 import BeautifulSoup\n",
    "import pandas as pd\n",
    "import numpy as np\n",
    "\n",
    "\n",
    "if __name__ == \"__main__\":\n",
    "    RANK = 100 ## 멜론 차트 순위가 1 ~ 100위까지 있음\n",
    "\n",
    "    header = {'User-Agent': 'Mozilla/5.0 (Windows NT 6.3; Trident/7.0; rv:11.0) like Gecko'}\n",
    "    req = requests.get('https://www.melon.com/chart/week/index.htm', headers = header) ## 주간 차트를 크롤링 할 것임\n",
    "    html = req.text\n",
    "    parse = BeautifulSoup(html, 'html.parser')\n",
    "\n",
    "    titles = parse.find_all(\"div\", {\"class\": \"ellipsis rank01\"}) \n",
    "    singers = parse.find_all(\"div\", {\"class\": \"ellipsis rank02\"}) \n",
    "    albums = parse.find_all(\"div\",{\"class\": \"ellipsis rank03\"}) \n",
    "    dates = parse.find(\"span\",{\"class\":\"yyyymmdd\"}).get_text().strip()\n",
    "    title = []\n",
    "    singer = []\n",
    "    album = []\n",
    "    rank = [i for i in range(1,101)]\n",
    "    \n",
    "    \n",
    "    \n",
    "    for t in titles:\n",
    "        title.append(t.find('a').text) \n",
    "    for s in singers:\n",
    "        singer.append(s.find('span', {\"class\": \"checkEllipsis\"}).text)\n",
    "\n",
    "    for a in albums:\n",
    "        album.append(a.find('a').text)\n",
    "    \n",
    "    #for i in range(RANK):\n",
    "        #print('%3d위: %s [ %s ] - %s'%(i+1, title[i], album[i], singer[i]))    \n",
    "    columns = ['title', 'singer', 'album','dates']\n",
    "    \n",
    "    \n",
    "    data = {\n",
    "        'rank' : rank,\n",
    "        'title': title,\n",
    "        'singer': singer,\n",
    "        'album': album,\n",
    "        'dates': dates \n",
    "        \n",
    "    }\n",
    "    chart_df = pd.DataFrame(data)\n",
    "    chart_df.to_csv('melon_chart.csv', index=False, encoding='utf-8-sig')\n",
    "    "
   ]
  }
 ],
 "metadata": {
  "kernelspec": {
   "display_name": "Python 3",
   "language": "python",
   "name": "python3"
  },
  "language_info": {
   "codemirror_mode": {
    "name": "ipython",
    "version": 3
   },
   "file_extension": ".py",
   "mimetype": "text/x-python",
   "name": "python",
   "nbconvert_exporter": "python",
   "pygments_lexer": "ipython3",
   "version": "3.11.5"
  }
 },
 "nbformat": 4,
 "nbformat_minor": 2
}
